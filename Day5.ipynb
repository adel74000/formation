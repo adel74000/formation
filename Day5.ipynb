{
 "cells": [
  {
   "attachments": {
    "b718758f-e0ae-4558-9931-32f83030da0f.png": {
     "image/png": "[encoded data removed]"
    }
   },
   "cell_type": "markdown",
   "id": "6b0df7c7-41d0-4d4f-873d-2d9c74155a14",
   "metadata": {},
   "source": [
    "![ecole.png](attachment:b718758f-e0ae-4558-9931-32f83030da0f.png)\n",
    "### Higher School of Technology"
   ]
  },
  {
   "cell_type": "markdown",
   "id": "7bdf7631-5a2c-4e26-bcdd-66a3bc30f402",
   "metadata": {},
   "source": [
    "# 📚 What Are LLMs?\n",
    "\n",
    "Large Language Models are a type of artificial intelligence trained to understand and generate human-like text. Think of them as very advanced assistant systems.\n",
    "\n",
    "They are called \"large\" because they have:\n",
    "- Huge numbers of parameters (often billions)\n",
    "- Trained on massive datasets (books, websites, code, etc.)\n",
    "- The ability to generalize across many types of language tasks"
   ]
  },
  {
   "cell_type": "markdown",
   "id": "8f742f9d-a2da-4411-a019-735868019f50",
   "metadata": {},
   "source": [
    "# 🔧 How Do They Work?\n",
    "\n",
    "At their core, LLMs are built on a neural network architecture called the Transformer. Here's the idea:\n",
    "-Tokenization – Text is split into chunks called tokens (words or pieces of words).\n",
    "- Embedding – Tokens are converted into numbers (vectors).\n",
    "- Self-Attention – The model learns which words in a sentence are related to each other.\n",
    "- Layers & Training – Multiple layers of attention and feedforward networks adjust the model's “understanding” through training.\n",
    "- Prediction – The model learns to predict the next token based on previous ones."
   ]
  },
  {
   "cell_type": "markdown",
   "id": "98b0f623-0648-45f0-a4dd-91a19f7474b6",
   "metadata": {},
   "source": [
    "# 🔍 What Can LLMs Do?\n",
    "\n",
    "- Chat and conversation (like ChatGPT)\n",
    "- Text summarization\n",
    "- Translation\n",
    "- Question answering\n",
    "- Code generation\n",
    "- Sentiment analysis\n",
    "- Financial analysis (like FinGPT)"
   ]
  },
  {
   "cell_type": "markdown",
   "id": "28fe12d2-46d9-44de-8ee4-7894ea626e18",
   "metadata": {},
   "source": [
    "# 📚 Examples of Popular LLMs\n",
    "\n",
    "Model Name\t         Creator\t               Key Use\n",
    "GPT-4/GPT-3.5\t     OpenAI \t               Chat, writing, coding\n",
    "LLaMA\t             Meta    \t               Research, open-source alternatives\n",
    "Claude\t             Anthropic\t               Constitutional AI, safer dialog\n",
    "Mistral              Mistral AI\t               Efficient open-source models\n",
    "FinGPT\t             AI4Finance Foundation\t   Finance-specific NLP"
   ]
  },
  {
   "cell_type": "markdown",
   "id": "1fe73b9c-9e6f-450a-91c3-afe9fca92f23",
   "metadata": {},
   "source": [
    "# ⚠️ Limitations\n",
    "\n",
    "- May generate incorrect or biased outputs.\n",
    "- Doesn't truly \"understand\" in the human sense.\n",
    "- Needs large compute to train and run.\n",
    "- Sensitive to how prompts are phrased."
   ]
  },
  {
   "cell_type": "markdown",
   "id": "b187d19a-8d4f-488d-9315-4a499f26b776",
   "metadata": {},
   "source": [
    "# Applications of LLMs in Financial Data Analysis:\n",
    "\n",
    "## 📈 Sentiment Analysis on Financial News & Social Media:\n",
    "\n",
    "LLMs like FinGPT or LLaMA can analyze news headlines or tweets to determine sentiment (positive/negative/neutral) about companies, stocks, or markets.\n",
    "\n",
    "Example: Prompt: “Analyze the sentiment of: ‘Tesla beats earnings expectations, stock surges 12%.’”\n",
    "\n",
    "## 📰 Event Impact Prediction:\n",
    "\n",
    "LLMs can estimate the impact of financial events (e.g., Fed interest rate changes, earnings reports) on market trends.\n",
    "\n",
    "Example: Prompt: “What is the likely market impact if the Fed raises rates by 0.5%?”\n",
    "\n",
    "## 📊 Financial Report Summarization:\n",
    "\n",
    "Summarize long financial filings (e.g., 10-Ks, earnings calls) into key takeaways.\n",
    "\n",
    "Example: Prompt: “Summarize Apple’s Q4 earnings report.”\n",
    "\n",
    "## 🤖 Automated Financial Chatbots:\n",
    "\n",
    "Power customer-facing bots that can answer investor queries using real-time data and documents.\n",
    "\n",
    "## Portfolio Optimization Insights:\n",
    "\n",
    "Use LLMs alongside structured data to interpret risk, volatility, and allocation strategies."
   ]
  },
  {
   "cell_type": "markdown",
   "id": "ef9c2093-862c-4739-969c-13c073cc502a",
   "metadata": {},
   "source": [
    "# GPT like model\n",
    "This code snippet demonstrates how to use the 🤗 Hugging Face Transformers library to perform text generation using a pre-trained language model, such as GPT-2 or its variants."
   ]
  },
  {
   "cell_type": "code",
   "execution_count": null,
   "id": "c7284906-1af9-4c83-a2be-1f80aaca3475",
   "metadata": {},
   "outputs": [],
   "source": [
    "# python.exe -m pip install --upgrade pip\n",
    "# pip install transformers torch jupyter\n",
    "# pip uninstall tensorflow\n",
    "\n",
    "from transformers import pipeline\n",
    "\n",
    "model_name = \"gpt2\"\n",
    "#model_name = \"distilgpt2\"\n",
    "#model_name = \"EleutherAI/gpt-neo-125M\"\n",
    "#model_name = \"EleutherAI/gpt-j-6B\"\n",
    "\n",
    "generator = pipeline(\"text-generation\", model=model_name)\n",
    "\n",
    "# Test prompt\n",
    "prompt = \"Once upon a time\"\n",
    "result = generator(prompt, max_length=50, num_return_sequences=1)\n",
    "print(result[0]['generated_text'])"
   ]
  },
  {
   "cell_type": "markdown",
   "id": "67ee79b5-80ec-42fe-bbce-8fc50af84bdd",
   "metadata": {},
   "source": [
    "# Test GPT model\n",
    "his code uses a pre-trained language model to generate a continuation of a finance-related prompt, simulating how news about Apple Inc.'s earnings might be expanded in natural language."
   ]
  },
  {
   "cell_type": "code",
   "execution_count": null,
   "id": "04d9159a-fb2e-4351-99a9-bbf27a3f4fbc",
   "metadata": {},
   "outputs": [],
   "source": [
    "# custom prompt\n",
    "prompt = 'Apple Inc. shares rose after better-than-expected earnings.'\n",
    "result = generator(prompt, max_length=50, num_return_sequences=1)\n",
    "print(result[0]['generated_text'])"
   ]
  },
  {
   "cell_type": "markdown",
   "id": "1912dc74-937d-4193-bed0-ed70d3e5f864",
   "metadata": {},
   "source": [
    "# DeepSeek model\n",
    "This code uses the DeepSeek Coder 1.3B model to generate text based on a prompt by leveraging the 🤗 Hugging Face Transformers library for text generation, illustrating how the model can produce fluent, context-aware language completions."
   ]
  },
  {
   "cell_type": "code",
   "execution_count": null,
   "id": "ecc9f3e1-6577-4bb3-8064-5519f421546d",
   "metadata": {},
   "outputs": [],
   "source": [
    "from transformers import pipeline\n",
    "\n",
    "model_name = 'deepseek-ai/deepseek-coder-1.3b-base'\n",
    "\n",
    "generator = pipeline('text-generation', model=model_name)\n",
    "\n",
    "# Test prompt\n",
    "prompt = \"The stock market today\"\n",
    "prompt = 'Once upon a time'\n",
    "result = generator(prompt, max_length=50, num_return_sequences=1)\n",
    "print(result[0]['generated_text'])"
   ]
  },
  {
   "cell_type": "markdown",
   "id": "18e66ca5-1576-4e32-8600-151102935ca0",
   "metadata": {},
   "source": [
    "# Test DeepSeek model\n",
    "This code generates a continuation of a financial news-style sentence using a text generation model, demonstrating how language models can be used to simulate or analyze financial narratives based on custom prompts."
   ]
  },
  {
   "cell_type": "code",
   "execution_count": null,
   "id": "fcee5bce-60d5-41ad-b1e0-5937f8ebfada",
   "metadata": {},
   "outputs": [],
   "source": [
    "# custom prompt\n",
    "prompt = 'Apple Inc. shares rose after better-than-expected earnings.'\n",
    "result = generator(prompt, max_length=50, num_return_sequences=1)\n",
    "print(result[0]['generated_text'])"
   ]
  }
 ],
 "metadata": {
  "kernelspec": {
   "display_name": "Python 3 (ipykernel)",
   "language": "python",
   "name": "python3"
  },
  "language_info": {
   "codemirror_mode": {
    "name": "ipython",
    "version": 3
   },
   "file_extension": ".py",
   "mimetype": "text/x-python",
   "name": "python",
   "nbconvert_exporter": "python",
   "pygments_lexer": "ipython3",
   "version": "3.12.4"
  }
 },
 "nbformat": 4,
 "nbformat_minor": 5
}
