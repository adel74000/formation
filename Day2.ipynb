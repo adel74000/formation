{
 "cells": [
  {
   "attachments": {
    "09eb7b40-03ff-431c-85cc-b07ca6018efd.png": {
     "image/png": "[encoded data removed]"
    }
   },
   "cell_type": "markdown",
   "id": "9f3f3fba-c9a7-4da8-982a-26487ab9d9f8",
   "metadata": {},
   "source": [
    "![ecole.png](attachment:09eb7b40-03ff-431c-85cc-b07ca6018efd.png)\n",
    "### Higher School of Technology"
   ]
  },
  {
   "cell_type": "markdown",
   "id": "d67817bc-0ecb-4bc3-88c0-d0fc463fb99b",
   "metadata": {},
   "source": [
    "# 📊 Data Types in Data Science for Financial Analysis\n",
    "**Prerequisites**\n",
    "\n",
    "[Python basics](Day0.ipynb)"
   ]
  },
  {
   "cell_type": "markdown",
   "id": "1579021c",
   "metadata": {},
   "source": [
    "Financial datasets are commonly stored in formats such as .csv, .xlsx, .json, or even in image directories (e.g., scanned checks or handwritten forms). Regardless of the format, the first crucial step is always to import and validate the dataset — ensuring it is loaded correctly, complete, and properly structured for analysis.\n",
    "\n",
    "This notebook introduces the three most common data types used in financial data analysis:\n",
    "- Tabular data\n",
    "- Time series data\n",
    "- Image data"
   ]
  },
  {
   "cell_type": "markdown",
   "id": "de36cf44",
   "metadata": {},
   "source": [
    "# 📊 Tabular Financial Data Analysis\n",
    "Tabular data is structured as a two-dimensional table (rows and columns) containing numerical or categorical (text) values. Each row represents an observation, and each column represents a variable or attribute.\n",
    "\n",
    "Hence, we start our processing with a complete workflow for analyzing tabular financial datasets using example dataset: `loan_approval_dataset.csv`\n",
    "\n",
    "## 🧠 Objective:\n",
    "- Step 1 – Load and Preprocess the Tabular Financial Dataset,\n",
    "- Step 2 – View and access the dataset structure: rows, columns,\n",
    "- Step 3 – Get info about missing values,\n",
    "- Step 4 – Perform Exploratory Data Analysis (EDA),\n",
    "- Step 5 – Correlation Between Numerical Variables."
   ]
  },
  {
   "cell_type": "markdown",
   "id": "50c5018a-ac2d-412a-91f0-c4798cb4e350",
   "metadata": {},
   "source": [
    "## 🧮 Step 1 – Load and Preprocess the Tabular Financial Dataset\n",
    "### 🏦 About Dataset\n",
    "The loan_approval_dataset.csv dataset comprises historical records of loan applications collected from a financial institution. It contains demographic, financial, and asset-related information of applicants, along with the final loan approval decision. The dataset is intended for building and evaluating predictive models in credit scoring, loan risk assessment, and financial decision automation.\n",
    "\n",
    "The dataset includes 4,269 rows, each representing a unique loan application.\n",
    "\n",
    "📌 Attributes:\n",
    "- loan_id: Unique identifier assigned to each loan application.\n",
    "- no_of_dependents: Number of dependents supported by the applicant.\n",
    "- education: Education level of the applicant (Graduate/Not Graduate).\n",
    "- self_employed: Indicates if the applicant is self-employed (Yes/No).\n",
    "- income_annum: Annual income of the applicant (numeric).\n",
    "- loan_amount: Requested loan amount in local currency.\n",
    "- loan_term: Duration of the loan repayment in months.\n",
    "- cibil_score: Applicant’s credit score from CIBIL, ranging typically between 300 and 900.\n",
    "- residential_assets_value: Value of residential property owned by the applicant.\n",
    "- commercial_assets_value: Value of commercial property owned.\n",
    "- luxury_assets_value: Estimated value of luxury items (cars, jewelry, etc.).\n",
    "- bank_asset_value: Total assets in the applicant’s bank accounts.\n",
    "- loan_status: Target variable indicating whether the loan was approved (Yes) or rejected (No)."
   ]
  },
  {
   "cell_type": "code",
   "execution_count": 6,
   "id": "9a742360",
   "metadata": {},
   "outputs": [],
   "source": [
    "# import necessary libraries\n",
    "import pandas as pd\n",
    "import numpy as np\n",
    "\n",
    "# load dataset\n",
    "df = pd.read_csv('datasets/loan_approval_dataset.csv')"
   ]
  },
  {
   "cell_type": "markdown",
   "id": "662462c0-357d-4520-af34-d29aaadea15c",
   "metadata": {},
   "source": [
    "## 🧮 Step 2 – View and access the dataset structure: rows, columns\n",
    "Viewing and accessing the financial dataset structure (rows and columns) is essential to understand its dimensions, data types, and layout, which helps guide proper preprocessing, analysis, and model selection."
   ]
  },
  {
   "cell_type": "code",
   "execution_count": 7,
   "id": "b4fd17f1-6ee7-425a-983f-8617859a4741",
   "metadata": {},
   "outputs": [
    {
     "name": "stdout",
     "output_type": "stream",
     "text": [
      "<class 'pandas.core.frame.DataFrame'>\n",
      "RangeIndex: 4269 entries, 0 to 4268\n",
      "Data columns (total 13 columns):\n",
      " #   Column                    Non-Null Count  Dtype \n",
      "---  ------                    --------------  ----- \n",
      " 0   loan_id                   4269 non-null   int64 \n",
      " 1   no_of_dependents          4269 non-null   int64 \n",
      " 2   education                 4269 non-null   object\n",
      " 3   self_employed             4269 non-null   object\n",
      " 4   income_annum              4269 non-null   int64 \n",
      " 5   loan_amount               4269 non-null   int64 \n",
      " 6   loan_term                 4269 non-null   int64 \n",
      " 7   cibil_score               4269 non-null   int64 \n",
      " 8   residential_assets_value  4269 non-null   int64 \n",
      " 9   commercial_assets_value   4269 non-null   int64 \n",
      " 10  luxury_assets_value       4269 non-null   int64 \n",
      " 11  bank_asset_value          4269 non-null   int64 \n",
      " 12  loan_status               4269 non-null   object\n",
      "dtypes: int64(10), object(3)\n",
      "memory usage: 433.7+ KB\n"
     ]
    }
   ],
   "source": [
    "# view the dataset structure by preview the first 5 rows\n",
    "df.head()\n",
    "df.info()"
   ]
  },
  {
   "cell_type": "code",
   "execution_count": null,
   "id": "96e80b49-42c0-4554-953a-6fa734383131",
   "metadata": {},
   "outputs": [],
   "source": [
    "# access to data by index row 5 column 4\n",
    "print(df.iloc[5,4])\n",
    "\n",
    "# access to data in entire row 5\n",
    "print(df.iloc[5,:])\n",
    "\n",
    "# access to data in entire column 4\n",
    "print(df.iloc[:,4])\n",
    "\n",
    "# filter categorical data by column name\n",
    "df[df['self_employed'] == ' No']\n",
    "\n",
    "# filter numeric data by column name\n",
    "df[df['loan_term'] <= 2]"
   ]
  },
  {
   "cell_type": "markdown",
   "id": "26b4fb27-d173-466a-b37b-5400c350430d",
   "metadata": {},
   "source": [
    "## 🧮 Step 3 – Get info about missing values\n",
    "Cleaning missing values in financial data is essential to ensure accurate analysis, reliable modeling, and consistent performance metrics, as even small gaps can distort data continuity and mislead algorithms."
   ]
  },
  {
   "cell_type": "code",
   "execution_count": null,
   "id": "724dc246-ccc7-43df-8e37-2fb913b91626",
   "metadata": {},
   "outputs": [],
   "source": [
    "# get info on column types and missing values\n",
    "df.info()"
   ]
  },
  {
   "cell_type": "code",
   "execution_count": null,
   "id": "19eba9b0-cbc8-4171-93b2-7ead9ae1145f",
   "metadata": {},
   "outputs": [],
   "source": [
    "# introduce missing value in column income_annum row five\n",
    "income_annum = df.iloc[5,4]\n",
    "df.iloc[5,4] = np.nan;\n",
    "df.info()\n",
    "\n",
    "# find the rows with nan\n",
    "nan_rows = df[df['income_annum'].isnull()]\n",
    "print(nan_rows)\n",
    "\n",
    "# restore the original value\n",
    "df.iloc[5,4] = income_annum"
   ]
  },
  {
   "cell_type": "markdown",
   "id": "294b7f99-8684-493f-82f9-a04778239c24",
   "metadata": {},
   "source": [
    "## 🧮 Step 4 – Perform Exploratory Data Analysis (EDA)\n",
    "EDA is used to visually inspect the data to spot trends, anomalies, distributions, and relationships—critical in finance to detect risk factors or fraud patterns.\n",
    "### 4.1 Distribution of key Numerical Variables\n",
    "Analyzing the distribution of key numerical variables (like loan amount, income annum) helps understand the range, central tendency, spread, and shape of your financial data — which is critical for detecting outliers or fraud patterns."
   ]
  },
  {
   "cell_type": "code",
   "execution_count": null,
   "id": "717f305b",
   "metadata": {},
   "outputs": [],
   "source": [
    "# import necessary libraries\n",
    "import seaborn as sns\n",
    "import matplotlib.pyplot as plt\n",
    "\n",
    "sns.histplot(df['loan_amount'])\n",
    "plt.title('Loan Amount Distribution')\n",
    "plt.xlabel('Loan Amount')\n",
    "plt.show()\n",
    "\n",
    "sns.histplot(df['income_annum'])\n",
    "plt.title('Applicant Income Distribution')\n",
    "plt.xlabel('Income')\n",
    "plt.show()"
   ]
  },
  {
   "cell_type": "markdown",
   "id": "17123494",
   "metadata": {},
   "source": [
    "### 4.2 Categorical Variable Distribution\n",
    "Understand the balance of approvals vs rejections, or the distribution of customer education level and self employement."
   ]
  },
  {
   "cell_type": "code",
   "execution_count": null,
   "id": "f42f5dc8",
   "metadata": {},
   "outputs": [],
   "source": [
    "# Count of approved vs rejected loans\n",
    "sns.countplot(x='loan_status', data=df)\n",
    "plt.title('Loan Status Counts')\n",
    "plt.show()\n",
    "\n",
    "# Count of approved vs rejected loans\n",
    "sns.countplot(x='education', data=df)\n",
    "plt.title('Education Status Counts')\n",
    "plt.show()\n",
    "\n",
    "# Count of approved vs rejected loans\n",
    "sns.countplot(x='self_employed', data=df)\n",
    "plt.title('Employement Status Counts')\n",
    "plt.show()"
   ]
  },
  {
   "cell_type": "markdown",
   "id": "5a93063a",
   "metadata": {},
   "source": [
    "### 4.3 Outlier Detection\n",
    "Outliers in income or loan requests may indicate fraud, VIP clients, or data entry errors."
   ]
  },
  {
   "cell_type": "code",
   "execution_count": null,
   "id": "37eae40e",
   "metadata": {},
   "outputs": [],
   "source": [
    "# outliers in applicant income\n",
    "sns.boxplot(x=df['income_annum'])\n",
    "plt.title('Applicant Income Annum Boxplot')\n",
    "plt.show()\n",
    "\n",
    "# outliers in loan amount\n",
    "sns.boxplot(x=df['loan_amount'])\n",
    "plt.title('Applicant Loan Amount Boxplot')\n",
    "plt.show()"
   ]
  },
  {
   "cell_type": "code",
   "execution_count": null,
   "id": "f278dc3e-5e00-4220-8fb7-749e41cfd0d0",
   "metadata": {},
   "outputs": [],
   "source": [
    "# insert outlayer\n",
    "income_annum = df.iloc[5,4]\n",
    "df.iloc[5,4] = income_annum * 5\n",
    "\n",
    "# outliers in applicant income\n",
    "sns.boxplot(x=df['income_annum'])\n",
    "plt.title('Applicant Income Annum Boxplot with oultlayer')\n",
    "plt.show()\n",
    "\n",
    "# restore the original value\n",
    "df.iloc[5,4] = income_annum"
   ]
  },
  {
   "cell_type": "markdown",
   "id": "68368821",
   "metadata": {},
   "source": [
    "### 4.4 Grouped Aggregates\n",
    "Compare group-wise statistics (e.g., average loan amount by gender or approval status)."
   ]
  },
  {
   "cell_type": "code",
   "execution_count": null,
   "id": "1b1b5d2f",
   "metadata": {},
   "outputs": [],
   "source": [
    "# average loan amount by loan status\n",
    "group_stats = df.groupby('loan_status')['loan_amount'].mean()\n",
    "print('loan amount by status:\\n', group_stats)\n",
    "\n",
    "# average loan amount by loan status\n",
    "group_stats = df.groupby('education')['loan_amount'].mean()\n",
    "print('loan amount by status:\\n', group_stats)\n",
    "\n",
    "# count of loan status by education\n",
    "group_stats = df.groupby('education')['loan_status'].count()\n",
    "print('loan status by education:\\n', group_stats)"
   ]
  },
  {
   "cell_type": "markdown",
   "id": "ea038674",
   "metadata": {},
   "source": [
    "## 🧮 Step 5 – Correlation Between Numerical Variables\n",
    "Check for linear relationships between numerical variables, e.g., between income and loan amount, or loan approval status.\n",
    "In this dataset, the loan_status column is categorical (\"Approved\" or \"Rejected\"), and correlation can only be computed between numeric columns. So first, we need to convert loan_status into numeric values."
   ]
  },
  {
   "cell_type": "code",
   "execution_count": null,
   "id": "a04e4814",
   "metadata": {},
   "outputs": [],
   "source": [
    "# Encode loan_status: Approved = 1, Rejected = 0\n",
    "#df['loan_status_numeric'] = df['loan_status'].map({' Approved':1,' Rejected':0})\n",
    "#df['self_employed_numeric'] = df['self_employed'].map({' Yes':1,' No':0})\n",
    "#df['education_numeric'] = df['education'].map({' Graduate':1,' Not Graduate':0})\n",
    "\n",
    "# Compute correlation between all numerical variables\n",
    "corr = df.corr(numeric_only=True)\n",
    "#sns.heatmap(corr)\n",
    "#sns.heatmap(round(corr,2))\n",
    "#sns.heatmap(round(corr,2),annot=True)\n",
    "sns.heatmap(round(corr,2),annot=True,cmap='coolwarm')\n",
    "plt.title('Correlation Heatmap')\n",
    "plt.show()"
   ]
  },
  {
   "cell_type": "markdown",
   "id": "0466463e",
   "metadata": {},
   "source": [
    "# 📈 Time series Financial Data Analysis\n",
    "\n",
    "This type of data is similar to standard tabular data—organized as a two-dimensional table containing numerical or categorical (text) values. However, what makes time series data unique is that the first column contains a timestamp (date), which defines the chronological order of the observations in each row.\n",
    "\n",
    "Each row represents data recorded at a specific moment or over a given time period, allowing us to track how variables evolve over time (e.g., daily, monthly, yearly, etc.).\n",
    "\n",
    "This notebook demonstrates a complete analysis evolution of financial time series data , such as stock prices using example dataset: `stock_details_3_years.csv`\n",
    "\n",
    "## 🧠 Objective:\n",
    "- Step 1 – Load and Preprocess the time series Financial Dataset,\n",
    "- Step 2 – View and access the dataset structure: rows, columns,\n",
    "- Step 3 – Get info about missing values,\n",
    "- Step 4 – Perform Exploratory Data Analysis (EDA),\n",
    "- Step 5 – Correlation Between Numerical Variables,\n",
    "- Step 6 – Seasonality & Trend Decomposition,\n",
    "- Step 7 – Filtering by Time Window."
   ]
  },
  {
   "cell_type": "markdown",
   "id": "eb2da8cf",
   "metadata": {},
   "source": [
    "## 🧮 Step 1 – Load and Preprocess the time series Financial Dataset\n",
    "### 🏦 About Dataset\n",
    "The stock_details_3_years.csv dataset comprises historical stock market data extracted from **Yahoo Finance**, spanning a period of three years (from 2020-01-02 to 2022-12-30). It includes daily records of stock performance metrics for 489 companies, representing a view of market behavior over time. \n",
    "\n",
    "This dataset is ideal for conducting financial time series analysis, including trend detection, volatility analysis, and forecasting.\n",
    "\n",
    "The dataset contains 363,657 rows, each representing a stock's daily trading activity.\n",
    "\n",
    "📌 Attributes:\n",
    "- Date: The date corresponding to the recorded stock market data.\n",
    "- Open: The opening price of the stock on a given date.\n",
    "- High: The highest price of the stock reached during the trading day.\n",
    "- Low: The lowest price of the stock observed during the trading day.\n",
    "- Close: The closing price of the stock on a specific date.\n",
    "- Volume: The volume of shares traded on the given date.\n",
    "- Dividends: Any dividend payments made by the company on that date (if applicable).\n",
    "- Stock Splits: Information regarding any stock splits occurring on that date.\n",
    "- Company: Ticker symbol or identifier representing the respective company."
   ]
  },
  {
   "cell_type": "code",
   "execution_count": 9,
   "id": "1c5c39fc",
   "metadata": {},
   "outputs": [],
   "source": [
    "# Import necessary libraries\n",
    "import pandas as pd\n",
    "import numpy as np\n",
    "\n",
    "# Load dataset\n",
    "df_ts = pd.read_csv('datasets/stock_details_2_years.csv')"
   ]
  },
  {
   "cell_type": "markdown",
   "id": "46be29e6-b006-4fde-9b42-5af82353a486",
   "metadata": {},
   "source": [
    "## 🧮 Step 2 – View and access the dataset structure: rows, columns\n",
    "Viewing and accessing the financial dataset structure (rows and columns) is essential to understand its dimensions, data types, and layout, which helps guide proper preprocessing, analysis, and model selection."
   ]
  },
  {
   "cell_type": "code",
   "execution_count": 10,
   "id": "6d94ba58-4521-4d61-91fe-dba70b3d7c50",
   "metadata": {},
   "outputs": [
    {
     "data": {
      "text/html": [
       "<div>\n",
       "<style scoped>\n",
       "    .dataframe tbody tr th:only-of-type {\n",
       "        vertical-align: middle;\n",
       "    }\n",
       "\n",
       "    .dataframe tbody tr th {\n",
       "        vertical-align: top;\n",
       "    }\n",
       "\n",
       "    .dataframe thead th {\n",
       "        text-align: right;\n",
       "    }\n",
       "</style>\n",
       "<table border=\"1\" class=\"dataframe\">\n",
       "  <thead>\n",
       "    <tr style=\"text-align: right;\">\n",
       "      <th></th>\n",
       "      <th>Date</th>\n",
       "      <th>Open</th>\n",
       "      <th>High</th>\n",
       "      <th>Low</th>\n",
       "      <th>Close</th>\n",
       "      <th>Volume</th>\n",
       "      <th>Dividends</th>\n",
       "      <th>Stock Splits</th>\n",
       "      <th>Company</th>\n",
       "    </tr>\n",
       "  </thead>\n",
       "  <tbody>\n",
       "    <tr>\n",
       "      <th>0</th>\n",
       "      <td>2021-04-01 00:00:00-04:00</td>\n",
       "      <td>121.695524</td>\n",
       "      <td>122.207260</td>\n",
       "      <td>120.544105</td>\n",
       "      <td>121.046005</td>\n",
       "      <td>75089100</td>\n",
       "      <td>0.0</td>\n",
       "      <td>0.0</td>\n",
       "      <td>AAPL</td>\n",
       "    </tr>\n",
       "    <tr>\n",
       "      <th>1</th>\n",
       "      <td>2021-04-01 00:00:00-04:00</td>\n",
       "      <td>232.767991</td>\n",
       "      <td>237.033496</td>\n",
       "      <td>232.358035</td>\n",
       "      <td>236.555222</td>\n",
       "      <td>30338000</td>\n",
       "      <td>0.0</td>\n",
       "      <td>0.0</td>\n",
       "      <td>MSFT</td>\n",
       "    </tr>\n",
       "    <tr>\n",
       "      <th>2</th>\n",
       "      <td>2021-04-01 00:00:00-04:00</td>\n",
       "      <td>104.612503</td>\n",
       "      <td>106.787498</td>\n",
       "      <td>104.571503</td>\n",
       "      <td>106.488998</td>\n",
       "      <td>39880000</td>\n",
       "      <td>0.0</td>\n",
       "      <td>0.0</td>\n",
       "      <td>GOOGL</td>\n",
       "    </tr>\n",
       "    <tr>\n",
       "      <th>3</th>\n",
       "      <td>2021-04-01 00:00:00-04:00</td>\n",
       "      <td>155.897003</td>\n",
       "      <td>158.121994</td>\n",
       "      <td>155.777496</td>\n",
       "      <td>158.050003</td>\n",
       "      <td>58806000</td>\n",
       "      <td>0.0</td>\n",
       "      <td>0.0</td>\n",
       "      <td>AMZN</td>\n",
       "    </tr>\n",
       "    <tr>\n",
       "      <th>4</th>\n",
       "      <td>2021-04-01 00:00:00-04:00</td>\n",
       "      <td>135.475939</td>\n",
       "      <td>138.448023</td>\n",
       "      <td>134.867047</td>\n",
       "      <td>137.866577</td>\n",
       "      <td>30827600</td>\n",
       "      <td>0.0</td>\n",
       "      <td>0.0</td>\n",
       "      <td>NVDA</td>\n",
       "    </tr>\n",
       "  </tbody>\n",
       "</table>\n",
       "</div>"
      ],
      "text/plain": [
       "                        Date        Open        High         Low       Close  \\\n",
       "0  2021-04-01 00:00:00-04:00  121.695524  122.207260  120.544105  121.046005   \n",
       "1  2021-04-01 00:00:00-04:00  232.767991  237.033496  232.358035  236.555222   \n",
       "2  2021-04-01 00:00:00-04:00  104.612503  106.787498  104.571503  106.488998   \n",
       "3  2021-04-01 00:00:00-04:00  155.897003  158.121994  155.777496  158.050003   \n",
       "4  2021-04-01 00:00:00-04:00  135.475939  138.448023  134.867047  137.866577   \n",
       "\n",
       "     Volume  Dividends  Stock Splits Company  \n",
       "0  75089100        0.0           0.0    AAPL  \n",
       "1  30338000        0.0           0.0    MSFT  \n",
       "2  39880000        0.0           0.0   GOOGL  \n",
       "3  58806000        0.0           0.0    AMZN  \n",
       "4  30827600        0.0           0.0    NVDA  "
      ]
     },
     "execution_count": 10,
     "metadata": {},
     "output_type": "execute_result"
    }
   ],
   "source": [
    "# View the dataset structure by preview the first 5 rows\n",
    "df_ts.head()"
   ]
  },
  {
   "cell_type": "code",
   "execution_count": null,
   "id": "8d771667-5058-4489-ba46-b097e1153860",
   "metadata": {},
   "outputs": [],
   "source": [
    "# access to data by index row 3 column 2\n",
    "print(df_ts.iloc[3,2])\n",
    "\n",
    "# access to data in entire row 3\n",
    "print(df_ts.iloc[3,:])\n",
    "\n",
    "# access to data in entire column 2\n",
    "print(df_ts.iloc[:,2])\n",
    "\n",
    "# filter data by column name\n",
    "df_ts_google = df_ts[df_ts['Company'] == 'GOOGL'].copy()\n",
    "\n",
    "# filter data by column name\n",
    "df_ts_less2 = df_ts[df_ts['Open'] < 2]"
   ]
  },
  {
   "cell_type": "markdown",
   "id": "99200573-8771-445e-a681-2c94878d11d3",
   "metadata": {},
   "source": [
    "## 🧮 Step 3 – Get info about missing values\n",
    "Cleaning missing values in financial data is essential to ensure accurate analysis, reliable modeling, and consistent performance metrics, as even small gaps can distort data continuity and mislead algorithms."
   ]
  },
  {
   "cell_type": "code",
   "execution_count": null,
   "id": "50bf2c00-0c1b-47e9-9075-9171cb345502",
   "metadata": {},
   "outputs": [],
   "source": [
    "# Get info on column types and missing values\n",
    "df_ts.info()"
   ]
  },
  {
   "cell_type": "code",
   "execution_count": null,
   "id": "b7a58dc8-90c1-4ad0-ab06-3de10ee8aef4",
   "metadata": {},
   "outputs": [],
   "source": [
    "# Get info on column types and missing values\n",
    "open = df_ts.iloc[1,2]\n",
    "df_ts.iloc[1,2] = np.nan;\n",
    "df_ts.info()\n",
    "\n",
    "# find the rows with nan\n",
    "nan_rows = df_ts[df_ts['High'].isnull()]\n",
    "print(nan_rows)\n",
    "\n",
    "# restore the original value\n",
    "df_ts.iloc[1,2] = open"
   ]
  },
  {
   "cell_type": "markdown",
   "id": "2f5d63db-ae87-4da0-9f03-d1eb79e75947",
   "metadata": {},
   "source": [
    "## 🧮 Step 4 – Perform Exploratory Data Analysis (EDA)\n",
    "EDA is used to visually inspect the data to spot trends, anomalies, distributions, and relationships—critical in finance to detect risk factors or fraud patterns.\n",
    "### 4.1 Distribution of key Numerical Variables\n",
    "Analyzing the distribution of key numerical variables (like loan amount, income annum) helps understand the range, central tendency, spread, and shape of your financial data — which is critical for detecting outliers or fraud patterns."
   ]
  },
  {
   "cell_type": "code",
   "execution_count": null,
   "id": "0f5ddd6e-cd9d-434c-b49c-222c8fb87fcd",
   "metadata": {},
   "outputs": [],
   "source": [
    "import seaborn as sns\n",
    "import matplotlib.pyplot as plt\n",
    "\n",
    "sns.histplot(df_ts['Volume'])\n",
    "plt.title('The Volume of Shares Traded')\n",
    "plt.xlabel('Volume')\n",
    "plt.show()\n",
    "\n",
    "sns.histplot(df_ts['Open'])\n",
    "plt.title('The Opening Price of the Stock')\n",
    "plt.xlabel('Open')\n",
    "plt.show()"
   ]
  },
  {
   "cell_type": "code",
   "execution_count": null,
   "id": "5dc9d4a6-0b2b-442c-a638-e1d9d511b7b7",
   "metadata": {},
   "outputs": [],
   "source": [
    "# Google stock change over time\n",
    "\n",
    "plt.plot(df_ts_google.index, df_ts_google['Open'])\n",
    "plt.title('Google Opening Price of the Stock')\n",
    "plt.xlabel('Stock Price')\n",
    "plt.show()"
   ]
  },
  {
   "cell_type": "markdown",
   "id": "293c2a71-d749-4634-ad7e-1eba891d09e1",
   "metadata": {},
   "source": [
    "### 4.2 Outlier Detection\n",
    "Outliers in open or close prices. When you have wide value ranges like in stock prices (from a few dollars to thousands), classic outlier detection can fail, especially across many companies with different price scales.\n",
    "\n",
    "Here, the best strategie is to handle juste one compagny Google."
   ]
  },
  {
   "cell_type": "code",
   "execution_count": null,
   "id": "3c209dca-c7a6-4bbd-a010-9b23c78b1947",
   "metadata": {},
   "outputs": [],
   "source": [
    "# outliers in Google open price of the stock\n",
    "sns.boxplot(x=df_ts_google['Open'])\n",
    "plt.title('Google Open Price of the Stock Boxplot')\n",
    "plt.show()\n",
    "\n",
    "# outliers in Google close price of the stock\n",
    "sns.boxplot(x=df_ts_google['Close'])\n",
    "plt.title('Google Close Price of the Stock Boxplot')\n",
    "plt.show()"
   ]
  },
  {
   "cell_type": "code",
   "execution_count": null,
   "id": "1026a947-7e01-4041-a223-bdd32ea88586",
   "metadata": {},
   "outputs": [],
   "source": [
    "# insert outlayer\n",
    "Open = df_ts_google.iloc[2,1]\n",
    "df_ts_google.iloc[2,1] = open * 5\n",
    "\n",
    "# Outliers in Applicant Income\n",
    "sns.boxplot(x=df_ts_google['Open'])\n",
    "plt.title('Google Open Price of the Stock Boxplot with Outlayer')\n",
    "plt.show()\n",
    "\n",
    "# restore the original value\n",
    "df_ts_google.iloc[2,1] = open"
   ]
  },
  {
   "cell_type": "markdown",
   "id": "3d29c24c-72ab-4da8-b15d-202d2225f1f4",
   "metadata": {},
   "source": [
    "### 4.3 Grouped Aggregates\n",
    "Compare group-wise statistics (e.g., average loan amount by gender or approval status)."
   ]
  },
  {
   "cell_type": "code",
   "execution_count": null,
   "id": "39b3b9c5-86fa-4fd4-81d9-7d86b5b7792b",
   "metadata": {},
   "outputs": [],
   "source": [
    "# average open price less than 2 dolar\n",
    "group_stats = df_ts_less2.groupby('Company')['Open'].mean()\n",
    "print('Mean Open Price by Company less than 2 dolars :\\n', group_stats)\n",
    "\n",
    "# number of open price less than 2 dolar\n",
    "group_stats = df_ts_less2.groupby('Company')['Open'].count()\n",
    "print('Mean Open Price by Company less than 2 dolars :\\n', group_stats)"
   ]
  },
  {
   "cell_type": "markdown",
   "id": "aa07d96e-b4be-4170-8643-97a61347ac7e",
   "metadata": {},
   "source": [
    "## 🧮 Step 5 – Correlation Between Numerical Variables\n",
    "Check for linear relationships between numerical variables, e.g., open and close, are the core quantitative stock market metrics, and understanding their correlation helps you see how closely they move together."
   ]
  },
  {
   "cell_type": "code",
   "execution_count": null,
   "id": "8e550d58-a53b-4617-9428-23ffc108862a",
   "metadata": {},
   "outputs": [],
   "source": [
    "# Compute correlation between all numerical variables\n",
    "corr = df_ts.corr(numeric_only=True)\n",
    "#plt.figure(figsize=(10,6))\n",
    "#sns.heatmap(corr)\n",
    "#sns.heatmap(roud(corr))\n",
    "#sns.heatmap(corr,annot=True)\n",
    "sns.heatmap(round(corr,2),annot=True,cmap='coolwarm')\n",
    "plt.title('Correlation Heatmap')\n",
    "plt.show()"
   ]
  },
  {
   "cell_type": "markdown",
   "id": "a921c9f6",
   "metadata": {},
   "source": [
    "## 📈 Step 6 – Seasonality & Trend Decomposition\n",
    "Seasonality & Trend Decomposition captures repeating patterns or fluctuations that occur at regular intervals (e.g., quarterly or annually 252 trading day/year).\n",
    "\n",
    "Trend Component: the trend curve shows a strong upward movement from 2020 to late 2021, then flattening out or declining slightly in 2022.\n",
    "Residuals highlight unusual one-time events that deviate from expectations."
   ]
  },
  {
   "cell_type": "code",
   "execution_count": null,
   "id": "b28f485c",
   "metadata": {},
   "outputs": [],
   "source": [
    "# Decomposition\n",
    "from statsmodels.tsa.seasonal import seasonal_decompose\n",
    "\n",
    "result = seasonal_decompose(df_ts_google['Close'], model='multiplicative', period=252)\n",
    "result.plot()\n",
    "plt.show()"
   ]
  },
  {
   "cell_type": "markdown",
   "id": "a6624cf4",
   "metadata": {},
   "source": [
    "## 🔍 Step 7 – Filtering by Time Window\n",
    "Filtering a DataFrame by a time window is essential when working with time series financial data — it lets you isolate specific date ranges for analysis or modeling."
   ]
  },
  {
   "cell_type": "code",
   "execution_count": null,
   "id": "89520da4",
   "metadata": {
    "scrolled": true
   },
   "outputs": [],
   "source": [
    "# Filter and plot year 2020\n",
    "\n",
    "# Set data as index\n",
    "df_ts_google.set_index('Date',inplace=True)\n",
    "\n",
    "# Define date range\n",
    "start_date = '2021-01-01'\n",
    "end_date = '2021-01-31'\n",
    "\n",
    "# Filter data\n",
    "filtered_df_google = df_ts_google[start_date:end_date]\n",
    "\n",
    "# Display result\n",
    "print(filtered_df_google.head())"
   ]
  },
  {
   "cell_type": "code",
   "execution_count": null,
   "id": "7657539f-178d-4206-b6d4-3be085ae9b3c",
   "metadata": {},
   "outputs": [],
   "source": [
    "# plot result\n",
    "\n",
    "plt.plot(filtered_df_google.index, filtered_df_google['Open'])\n",
    "plt.title('Google Opening Price of the Stock in date window')\n",
    "plt.xlabel('Stock Price')\n",
    "plt.show()"
   ]
  },
  {
   "cell_type": "markdown",
   "id": "3ae078aa",
   "metadata": {},
   "source": [
    "# 🖼️ Image Data in Financial Applications\n",
    "In financial data science, beyond tabular and time series data, image data plays a critical role in tasks like:\n",
    "1. Handwritten digit recognition using the MNIST dataset.\n",
    "2. Signature verification using a Kaggle dataset for fraud detection.\n",
    "\n",
    "Image data is structured as a two-dimensional table (rows and columns) containing pixel as numerical values representing visual information. In financial applications such as automated check processing to recognize handwritten digits (e.g., check amounts, account numbers).\n",
    "\n",
    "Hence, we begin our image data workflow with a complete pipeline for analyzing and modeling handwriting digit recognition using the benchmark dataset: MNIST\n",
    "\n",
    "## 🧠 Objective:\n",
    "- Step 1 – Load and Preprocess the Image Dataset,\n",
    "- Step 1 – Data Statistics and Visualization."
   ]
  },
  {
   "cell_type": "markdown",
   "id": "e259b973-f91e-4fcc-951d-d6ed4261e24f",
   "metadata": {},
   "source": [
    "## 🧮 Step 1 – Load and Preprocess the Image Dataset (MNIST)\n",
    "### 🏦 About Dataset\n",
    "\n",
    "![MNIST](https://upload.wikimedia.org/wikipedia/commons/2/27/MnistExamples.png)\n",
    "\n",
    "The MNIST (Modified National Institute of Standards and Technology) dataset is a benchmark image dataset widely used in machine learning, particularly for training image classification models. In the context of financial analysis, MNIST serves as a foundational dataset for building and testing handwriting recognition systems — such as those used in automated check processing, where numeric fields like amount, date, and check number are handwritten.\n",
    "\n",
    "The dataset contains 70,000 grayscale images of handwritten digits, split into 60,000 training samples and 10,000 test samples.\n",
    "\n",
    "📌 Attributes:\n",
    "- image: 28×28 pixel grayscale image containing a handwritten digit (0–9). Each pixel value ranges from 0 (black) to 255 (white).\n",
    "- label: Integer (0–9) representing the true digit in the image — used as the target for classification."
   ]
  },
  {
   "cell_type": "code",
   "execution_count": 1,
   "id": "8f80a3b0-c325-4693-9993-387bd4b79aa6",
   "metadata": {},
   "outputs": [
    {
     "name": "stdout",
     "output_type": "stream",
     "text": [
      "Downloading data from https://storage.googleapis.com/tensorflow/tf-keras-datasets/mnist.npz\n",
      "\u001b[1m11490434/11490434\u001b[0m \u001b[32m━━━━━━━━━━━━━━━━━━━━\u001b[0m\u001b[37m\u001b[0m \u001b[1m2s\u001b[0m 0us/step\n"
     ]
    }
   ],
   "source": [
    "# import necessary libraries\n",
    "from tensorflow import keras\n",
    "import matplotlib.pyplot as plt\n",
    "\n",
    "# load MNIST dataset\n",
    "(x_train, y_train), (x_test, y_test) = keras.datasets.mnist.load_data()"
   ]
  },
  {
   "cell_type": "markdown",
   "id": "78d6d50e-cac6-4d53-a2fd-b9f96403ffe8",
   "metadata": {},
   "source": [
    "## 🧮 Step 2 – Data Statistics and Visualization"
   ]
  },
  {
   "cell_type": "code",
   "execution_count": 3,
   "id": "adee5787-17b8-444b-9083-d7a7316e732b",
   "metadata": {},
   "outputs": [
    {
     "name": "stdout",
     "output_type": "stream",
     "text": [
      "Training images shape :  (60000, 28, 28)\n",
      "Training labels shape :  (60000,)\n",
      "Test images shape :  (10000, 28, 28)\n",
      "Test labels shape :  (10000,)\n",
      "Unique digit labels :  {0, 1, 2, 3, 4, 5, 6, 7, 8, 9}\n"
     ]
    },
    {
     "data": {
      "image/png": "[encoded data removed]",
      "text/plain": [
       "<Figure size 640x480 with 1 Axes>"
      ]
     },
     "metadata": {},
     "output_type": "display_data"
    },
    {
     "data": {
      "image/png": "[encoded data removed]",
      "text/plain": [
       "<Figure size 640x480 with 1 Axes>"
      ]
     },
     "metadata": {},
     "output_type": "display_data"
    }
   ],
   "source": [
    "# get basic information about the MNIST dataset after loading it\n",
    "\n",
    "# shapes and types of the dataset\n",
    "print('Training images shape : ', x_train.shape)\n",
    "print('Training labels shape : ', y_train.shape)\n",
    "print('Test images shape : ', x_test.shape)\n",
    "print('Test labels shape : ', y_test.shape)\n",
    "\n",
    "# check unique labels (digits)\n",
    "print('Unique digit labels : ', set(y_train))\n",
    "\n",
    "# display a sample digit image\n",
    "plt.imshow(x_train[0])\n",
    "plt.title('Label : '+ str(y_train[0]))\n",
    "plt.show()\n",
    "\n",
    "# display a sample digit image\n",
    "plt.imshow(x_train[100])\n",
    "plt.title('Label : '+ str(y_train[100]))\n",
    "plt.show()"
   ]
  },
  {
   "cell_type": "markdown",
   "id": "65650ccd",
   "metadata": {},
   "source": [
    "## 🧮 Step 1 – Load and Preprocess the Image Dataset Handwritten Signature Verification\n",
    "### 🏦 About Dataset\n",
    "\n",
    "The Handwritten Signatures Dataset is a curated collection of signature images intended for training and evaluating signature verification systems. In domains like banking, legal services, and identity verification, automated signature authentication is crucial for detecting fraud and ensuring document authenticity.\n",
    "\n",
    "This dataset provides both genuine and forged signatures for multiple individuals, enabling the development of robust machine learning models for distinguishing real signatures from imitations.\n",
    "\n",
    "The dataset contains over 5,000 images of signatures from 55 individuals, with a mix of real and fake samples.\n",
    "\n",
    "📌 Attributes:\n",
    "\n",
    "- signature image: A binary or grayscale image of varying size containing a person's handwritten signature.\n",
    "- label: Indicates whether the signature is genuine or forged.\n",
    "    1 = Genuine\n",
    "    0 = Forged\n",
    "- filename: Encodes information such as the user ID, type of signature, and sample number.\n",
    "\n",
    "🗂 Use Cases:\n",
    "- Writer identification\n",
    "- Signature verification (online/offline systems)\n",
    "- Document authentication\n",
    "- Fraud detection in finance and legal industries"
   ]
  },
  {
   "cell_type": "code",
   "execution_count": 4,
   "id": "7a4694b4-7d3f-417f-8f59-c26b06f28783",
   "metadata": {},
   "outputs": [
    {
     "data": {
      "image/png": "[encoded data removed]",
      "text/plain": [
       "<Figure size 640x480 with 1 Axes>"
      ]
     },
     "metadata": {},
     "output_type": "display_data"
    },
    {
     "data": {
      "image/png": "[encoded data removed]",
      "text/plain": [
       "<Figure size 640x480 with 1 Axes>"
      ]
     },
     "metadata": {},
     "output_type": "display_data"
    }
   ],
   "source": [
    "from tensorflow import keras\n",
    "import matplotlib.pyplot as plt\n",
    "\n",
    "# Path to one images (choose any from dataset)\n",
    "genuine_image_path = 'datasets/signature/person1/NFI-00101001.png'\n",
    "forged_image_path = 'datasets/signature/person2/NFI-00201002.png'\n",
    "\n",
    "# Load image as grayscale\n",
    "genuine_image = keras.utils.load_img(genuine_image_path, color_mode='grayscale', target_size=(256, 256))\n",
    "forged_image = keras.utils.load_img(forged_image_path, color_mode='grayscale', target_size=(256, 256))\n",
    "\n",
    "# Plot both images\n",
    "plt.imshow(genuine_image)\n",
    "plt.title('genuine image')\n",
    "plt.show()\n",
    "\n",
    "plt.imshow(forged_image)\n",
    "plt.title('forged image')\n",
    "plt.show()"
   ]
  },
  {
   "cell_type": "markdown",
   "id": "a4b1c924-8b25-4151-aba1-30804d217086",
   "metadata": {},
   "source": [
    "## 🧮 Step 2 – Data Statistics and Visualization"
   ]
  },
  {
   "cell_type": "code",
   "execution_count": null,
   "id": "8179a722-901d-4d28-96b1-51794e98d3a1",
   "metadata": {},
   "outputs": [],
   "source": [
    "# get basic information about the MNIST dataset after loading it\n",
    "\n",
    "# shapes and types of the dataset\n",
    "print('Training images shape : ', x_train.shape)\n",
    "print('Training labels shape : ', y_train.shape)\n",
    "print('Test images shape : ', x_test.shape)\n",
    "print('Test labels shape : ', y_test.shape)\n",
    "\n",
    "# check unique labels (digits)\n",
    "print('Unique digit labels : ', set(y_train))\n",
    "\n",
    "# display a sample digit image\n",
    "plt.imshow(x_train[0])\n",
    "plt.title('Label : '+ str(y_train[0]))\n",
    "plt.show()\n",
    "\n",
    "# display a sample digit image\n",
    "plt.imshow(x_train[100])\n",
    "plt.title('Label : '+ str(y_train[0]))\n",
    "plt.show()"
   ]
  }
 ],
 "metadata": {
  "kernelspec": {
   "display_name": "Python 3 (ipykernel)",
   "language": "python",
   "name": "python3"
  },
  "language_info": {
   "codemirror_mode": {
    "name": "ipython",
    "version": 3
   },
   "file_extension": ".py",
   "mimetype": "text/x-python",
   "name": "python",
   "nbconvert_exporter": "python",
   "pygments_lexer": "ipython3",
   "version": "3.12.4"
  }
 },
 "nbformat": 4,
 "nbformat_minor": 5
}
