{
 "cells": [
  {
   "cell_type": "markdown",
   "id": "de3f4aec-e126-401c-90fb-d2ab1f773d95",
   "metadata": {
    "jp-MarkdownHeadingCollapsed": true
   },
   "source": [
    "![title](images/ecole.png)\n",
    "### Higher Schol of Technology"
   ]
  },
  {
   "attachments": {},
   "cell_type": "markdown",
   "id": "cd649b89",
   "metadata": {},
   "source": [
    "# Five-Day Training Program: AI for Financial Data Analysis, Forecasting, and Fraud Detection\n",
    "This github presents a series of lectures on economics data science and programming. The emphasis of these materials is not just the programming and statistics necessary to analyze financial data, but also on interpreting the results and detect trends or evantualy fraud.\n",
    "\n",
    "This work was supported by the  [Higher School of Technology](https://hst-edu.com/)\n",
    "\n",
    "# Program Introduction\n",
    "\n",
    "AI for Financial Data Analysis, Forecasting, and Fraud Detection\n",
    "\n",
    "Welcome to the Five-Day Executive Training Program on Data Science and Artificial Intelligence for Financial Data Analysis, Forecasting, and Fraud Detection. This intensive, hands-on program is tailored for professionals and decision-makers in the banking and financial sectors who are eager to harness the power of AI to drive innovation, enhance operational efficiency, and combat financial fraud.\n",
    "\n",
    "Throughout the five days, participants will delve into AI techniques—from statistical analysis and time series forecasting to deep learning models such as CNN. Blending theory with practical coding exercises and real-world case studies using public datasets, this program empowers attendees with the knowledge and tools to:\n",
    "\n",
    "- Analyze and visualize complex financial datasets,\n",
    "- Perform financial data visualization and analysis using Python,\n",
    "- Build decision-making models using techniques like Decision Trees,\n",
    "- Detect fraud in transactional data and handwritten checks,\n",
    "- Authenticate signatures through advanced deep learning models,\n",
    "- Use local Large Language Model to process financial dataset.\n",
    "\n",
    "By the end of the program, participants will be equipped with practical technical skills, modern AI tools, and a strategic perspective on integrating intelligent systems into financial operations.\n",
    "\n",
    "Let’s begin the journey of transforming financial insights into intelligent action.\n",
    "\n",
    "Please send any feedback about this github to [adlen.kerboua@univ-constantine2.dz](adlen.kerboua@univ-constantine2.dz)"
   ]
  },
  {
   "cell_type": "markdown",
   "id": "e695aea3",
   "metadata": {},
   "source": [
    "# Program Overview\n",
    "This program focuses on leveraging data science and AI technologies for financial forecasting, loan prediction, and fraud detection, including mobil transactions, handwritten number recognition from checks and signature authentication.\n",
    "\n",
    "During the five days we will focus on:"
   ]
  },
  {
   "cell_type": "markdown",
   "id": "cb48353d-b84f-421e-9e4d-35d0ac433b28",
   "metadata": {},
   "source": [
    "## 🗓️ Day 1:\n",
    "\n",
    "[Install tools](local_install.ipynb)"
   ]
  },
  {
   "cell_type": "markdown",
   "id": "c29dc3b9",
   "metadata": {},
   "source": [
    "## 🗓️ Day 2:\n",
    "\n",
    "[Data Types in Data Science for Financial Analysis](Day2.ipynb)"
   ]
  },
  {
   "cell_type": "markdown",
   "id": "3454916a",
   "metadata": {},
   "source": [
    "## 🗓️ Day 3:\n",
    "\n",
    "[Machine Learning on Financial Data](Day3.ipynb)"
   ]
  },
  {
   "cell_type": "markdown",
   "id": "38828620",
   "metadata": {},
   "source": [
    "## 🗓️ Day 4:\n",
    "\n",
    "[Fraud Detection in Transaction Data](Day4.ipynb)"
   ]
  },
  {
   "cell_type": "markdown",
   "id": "2ec88aa9",
   "metadata": {},
   "source": [
    "## 🗓️ Day 5:\n",
    "[Large Langage Model in Financial Data](Day5.ipynb)"
   ]
  }
 ],
 "metadata": {
  "date": 1738727696.92408,
  "filename": "index.md",
  "kernelspec": {
   "display_name": "Python 3 (ipykernel)",
   "language": "python",
   "name": "python3"
  },
  "language_info": {
   "codemirror_mode": {
    "name": "ipython",
    "version": 3
   },
   "file_extension": ".py",
   "mimetype": "text/x-python",
   "name": "python",
   "nbconvert_exporter": "python",
   "pygments_lexer": "ipython3",
   "version": "3.12.4"
  },
  "title": "Introduction to Economic Modeling and Data Science"
 },
 "nbformat": 4,
 "nbformat_minor": 5
}
