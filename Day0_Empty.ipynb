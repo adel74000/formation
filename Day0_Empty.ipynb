{
 "cells": [
  {
   "attachments": {
    "1fa979c5-d55c-4dc3-a945-05619b9b66b1.png": {
     "image/png": "[encoded data removed]"
    }
   },
   "cell_type": "markdown",
   "id": "96a7df99-93e2-4c71-8399-08e6c1e15040",
   "metadata": {},
   "source": [
    "![ecole.png](attachment:1fa979c5-d55c-4dc3-a945-05619b9b66b1.png)\n",
    "### Higher School of Technology"
   ]
  },
  {
   "cell_type": "markdown",
   "id": "2ba83c24",
   "metadata": {},
   "source": [
    "# Python basics\n",
    "**Prerequisites**\n",
    "\n",
    "[Install tools](local_install.ipynb)"
   ]
  },
  {
   "cell_type": "markdown",
   "id": "76e3412c",
   "metadata": {},
   "source": [
    "## Variable Assignment\n",
    "\n",
    "The first thing we will learn is the idea of *variable assignment*.\n",
    "\n",
    "Variable assignment associates a value to a variable name.\n",
    "\n",
    "Below, we assign the value “Hello World” to the variable `x`"
   ]
  },
  {
   "cell_type": "code",
   "execution_count": null,
   "id": "3354a93e",
   "metadata": {
    "hide-output": false
   },
   "outputs": [],
   "source": [
    "x = \"Hello World\""
   ]
  },
  {
   "cell_type": "markdown",
   "id": "1854f2f1",
   "metadata": {},
   "source": [
    "Once we have assigned a value to a variable, Python will remember this variable as long as the *current* session of Python is still running.\n",
    "\n",
    "Notice how writing `x` into the prompt below outputs the value “Hello World”."
   ]
  },
  {
   "cell_type": "code",
   "execution_count": null,
   "id": "312df358",
   "metadata": {
    "hide-output": false
   },
   "outputs": [],
   "source": [
    "x"
   ]
  },
  {
   "cell_type": "markdown",
   "id": "138e3e31",
   "metadata": {},
   "source": [
    "However, Python returns an error if we ask it about variables that have not yet\n",
    "been created."
   ]
  },
  {
   "cell_type": "code",
   "execution_count": null,
   "id": "385c0c4e",
   "metadata": {
    "hide-output": false
   },
   "outputs": [],
   "source": [
    "# uncomment (delete the # and the space) the line below and run\n",
    "# y"
   ]
  },
  {
   "cell_type": "markdown",
   "id": "4498a555-081a-499f-b7a0-bb42540a424c",
   "metadata": {},
   "source": [
    "### Exercise 1\n",
    "\n",
    "What do you think the value of `z` is after running the code below?"
   ]
  },
  {
   "cell_type": "code",
   "execution_count": null,
   "id": "ee861eca-c0a9-4fd6-bdee-61a7408bb034",
   "metadata": {},
   "outputs": [],
   "source": [
    "z = 3.1456\n",
    "z = z + 4\n",
    "z"
   ]
  },
  {
   "cell_type": "markdown",
   "id": "5a4254b1",
   "metadata": {},
   "source": [
    "### Code Comments\n",
    "\n",
    "Comments are short notes that you leave to explain what the code does.\n",
    "\n",
    "A comment is made with the `#`. Python ignores everything in a line that follows a `#`.\n",
    "\n",
    "Let’s practice making some comments."
   ]
  },
  {
   "cell_type": "code",
   "execution_count": null,
   "id": "f1804ae6",
   "metadata": {
    "hide-output": false
   },
   "outputs": [],
   "source": [
    "i = 1 # Assign the value 1 to variable i\n",
    "j = 2 # Assign the value 2 to variable j\n",
    "i + j # We add i and j below this line"
   ]
  },
  {
   "cell_type": "markdown",
   "id": "f51b8de8",
   "metadata": {},
   "source": [
    "## Functions\n",
    "\n",
    "Functions are processes that take an input (or inputs) and produce an output.\n",
    "\n",
    "If we had a function called `f` that took two arguments `x` and\n",
    "`y`, we would write `f(x, y)` to use the function.\n",
    "\n",
    "For example, the function `print` simply prints whatever it is given.\n",
    "Recall the variable we created called `x`."
   ]
  },
  {
   "cell_type": "code",
   "execution_count": null,
   "id": "926fd657",
   "metadata": {
    "hide-output": false
   },
   "outputs": [],
   "source": [
    "x = 3\n",
    "print('x=',x)\n",
    "print('x='+str(x))\n",
    "print('z=',round(z,2))"
   ]
  },
  {
   "cell_type": "markdown",
   "id": "6d212fba-3926-4000-8af5-5d7b769be526",
   "metadata": {},
   "source": [
    "You can use either `\"` or `'` to create a mmessage. Just make sure\n",
    "that you start and end the string with the same one!"
   ]
  },
  {
   "cell_type": "markdown",
   "id": "0b161e70",
   "metadata": {},
   "source": [
    "### Getting Help\n",
    "\n",
    "We can figure out what a function does by asking for help.\n",
    "\n",
    "In Jupyter notebooks, this is done by placing a `?` after the function\n",
    "name (without using parenthesis) and evaluating the cell.\n",
    "\n",
    "For example, we can ask for help on the print function by writing `print?`."
   ]
  },
  {
   "cell_type": "code",
   "execution_count": null,
   "id": "2b5f39c9",
   "metadata": {
    "hide-output": false
   },
   "outputs": [],
   "source": [
    "# print? # remove the comment and <Ctrl-Enter>"
   ]
  },
  {
   "cell_type": "markdown",
   "id": "5af0cabd",
   "metadata": {},
   "source": [
    "## Numeric data\n",
    "\n",
    "Python has two types of numbers:\n",
    "\n",
    "1. Integer (`int`): These can only take the values of the integers i.e. $ \\{\\dots, -2, -1, 0, 1, 2, \\dots\\} $  \n",
    "1. Floating Point Number (`float`): Think of these as any real number such as $ 1.0 $, $ 3.1415 $, or $ -100.022358923223 $… \n",
    "\n",
    "The easiest way to differentiate these types of numbers is to find a decimal place after the number.\n",
    "\n",
    "A float will have a decimal place, but an integer will not.\n",
    "\n",
    "Below, we assign integers to the variables `xi` and `zi` and assign floating point numbers to the variables `xf` and `zf`."
   ]
  },
  {
   "cell_type": "code",
   "execution_count": null,
   "id": "62eab421",
   "metadata": {
    "hide-output": false
   },
   "outputs": [],
   "source": [
    "xi = 1\n",
    "xf = 1.0\n",
    "zi = 123\n",
    "zf = 1230.5  # Notice -- There are no commas!"
   ]
  },
  {
   "cell_type": "markdown",
   "id": "54bcc57d",
   "metadata": {},
   "source": [
    "## Exercise\n",
    "Create the following variables:\n",
    "\n",
    "- `a`: An integer number with the value 3  \n",
    "- `b`: An integer number with value 2  \n",
    "- `c`: A floating point number with value 2.5  \n",
    "\n",
    "We will use them in a later exercise."
   ]
  },
  {
   "cell_type": "code",
   "execution_count": null,
   "id": "c10d270d-250e-4f23-861b-55a3e37b3187",
   "metadata": {},
   "outputs": [],
   "source": [
    "# your code here!"
   ]
  },
  {
   "cell_type": "markdown",
   "id": "5fb1afd1",
   "metadata": {},
   "source": [
    "### Python as a Calculator\n",
    "\n",
    "You can use Python to perform mathematical calculations."
   ]
  },
  {
   "cell_type": "code",
   "execution_count": null,
   "id": "78a9cacd",
   "metadata": {
    "hide-output": false
   },
   "outputs": [],
   "source": [
    "print(\"a + b is\", a + b)\n",
    "print(\"a - b is\", a - b)\n",
    "print(\"a * b is\", a * b)\n",
    "print(\"a / b is\", a / b)\n",
    "print(\"a ** b is\", a**b)"
   ]
  },
  {
   "cell_type": "markdown",
   "id": "41bdf19b",
   "metadata": {},
   "source": [
    "You likely could have guessed outputs\n",
    "\n",
    "Python uses `**` for exponentiation (raising a number to a power)!\n",
    "\n",
    "All operations involving a float will result in a float.\n",
    "\n",
    "All operations involving a integer will result in an integer, but `/` converted the result to a float."
   ]
  },
  {
   "cell_type": "markdown",
   "id": "781686f5",
   "metadata": {},
   "source": [
    "We can also chain together operations.\n",
    "\n",
    "When doing this, Python follows the standard [order of operations](https://en.wikipedia.org/wiki/Order_of_operations) — parenthesis, exponents,\n",
    "multiplication and division, followed by addition and subtraction.\n",
    "\n",
    "For example : "
   ]
  },
  {
   "cell_type": "code",
   "execution_count": null,
   "id": "9f175ca4",
   "metadata": {
    "hide-output": false
   },
   "outputs": [],
   "source": [
    "x = 2.0\n",
    "y = 3.0\n",
    "z1 = x + y * x\n",
    "z2 = (x + y) * x"
   ]
  },
  {
   "cell_type": "markdown",
   "id": "6b98679c",
   "metadata": {},
   "source": [
    "What do you think `z1` is?\n",
    "\n",
    "How about `z2`?"
   ]
  },
  {
   "cell_type": "markdown",
   "id": "9037ebd4",
   "metadata": {},
   "source": [
    "### Exercise\n",
    "Calculate the monthly payment \"mp\" of a principal loan \"pl\" of 1 000 000 DA, over a loan duration in years \"ldy\" of 10, with a fixed interest rate \"ir\" of 6%, using the following formulas:\n",
    "compute the number of payments \"np\"\n",
    "$$\n",
    "\\text{np = ldy*12}\n",
    "$$\n",
    "then compute the monthly rate \"mr\"\n",
    "$$\n",
    "\\text{mr} = \\frac{ir}{(100 * 12)}\n",
    "$$\n",
    "$$\n",
    "\\text{mp} = pl * (mr + \\frac{mr}{(1 + mr)^{np} - 1})\n",
    "$$"
   ]
  },
  {
   "cell_type": "code",
   "execution_count": null,
   "id": "b0a5695d-b6c5-4e7b-bdbc-6223d93d0606",
   "metadata": {},
   "outputs": [],
   "source": [
    "# initialize the variables\n",
    "\n",
    "# Since payments are once per month, number of payments is number of years for the loan * 12\n",
    "\n",
    "# Calculate the monthly payment based on the formulas\n",
    "\n",
    "# Result\n"
   ]
  },
  {
   "cell_type": "markdown",
   "id": "0b07391b",
   "metadata": {},
   "source": [
    "### Comparison Operators\n",
    "\n",
    "Making comparison create a booleans variables, for example, you might want to evaluate whether the price of a particular asset\n",
    "is greater than or less than some price.\n",
    "\n",
    "For two variables `x` and `y`, we can do the following comparisons:\n",
    "\n",
    "- Greater than: `x > y`  \n",
    "- Less than: `x < y`  \n",
    "- Equal to: `==`  \n",
    "- Greater than or equal to: `x >= y`  \n",
    "- Less than or equal to: `x <= y`  \n",
    "\n",
    "We demonstrate these below."
   ]
  },
  {
   "cell_type": "code",
   "execution_count": null,
   "id": "9feda28f",
   "metadata": {
    "hide-output": false
   },
   "outputs": [],
   "source": [
    "a = 4\n",
    "b = 2\n",
    "print(\"a > b\", \"is\", a > b)\n",
    "print(\"a < b\", \"is\", a < b)\n",
    "print(\"a == b\", \"is\", a == b)\n",
    "print(\"a >= b\", \"is\", a >= b)\n",
    "print(\"a <= b\", \"is\", a <= b)"
   ]
  },
  {
   "cell_type": "markdown",
   "id": "17987c3e-9991-496c-af70-e2825fdee30a",
   "metadata": {},
   "source": [
    "# Modules\n",
    "\n",
    "By module we mean sets of related tools are bundled together into *packages* or library\n",
    "\n",
    "For example:\n",
    "\n",
    "- `pandas` is a package that implements the tools necessary to do scalable data analysis.  \n",
    "- `matplotlib` is a package that implements visualization tools.  \n",
    "- `requests` and `urllib` are packages that allow Python to interface with the internet.  \n",
    "\n",
    "As we move further into the class, being able to access these packages will become very important.\n",
    "\n",
    "We can bring a package’s functionality into our current Python session by writing"
   ]
  },
  {
   "cell_type": "code",
   "execution_count": null,
   "id": "45ef3738",
   "metadata": {
    "hide-output": false
   },
   "outputs": [],
   "source": [
    "import package_name"
   ]
  },
  {
   "cell_type": "markdown",
   "id": "5c85b657-3345-464c-b577-91388cf8acaa",
   "metadata": {},
   "source": [
    "Once we have done this, any function or object from that package can be accessed by using `package.name`.\n",
    "\n",
    "Here’s an example."
   ]
  },
  {
   "cell_type": "code",
   "execution_count": null,
   "id": "9e0dbcde",
   "metadata": {
    "hide-output": false
   },
   "outputs": [],
   "source": [
    "import sys   # for dealing with your computer's system\n",
    "sys.version  # information about the Python version in use"
   ]
  },
  {
   "cell_type": "markdown",
   "id": "fa5fd631-7f9c-4310-9321-8d7fe7543cba",
   "metadata": {},
   "source": [
    "### Module Aliases\n",
    "Some packages have long names (see `matplotlib`, for example) which makes accessing the package functionality somewhat inconvenient.\n",
    "\n",
    "To ease this burden, Python allows us to give aliases or “shortnames” to packages.\n",
    "\n",
    "For example we can write:"
   ]
  },
  {
   "cell_type": "code",
   "execution_count": null,
   "id": "1a715cea",
   "metadata": {
    "hide-output": false
   },
   "outputs": [],
   "source": [
    "import package as p"
   ]
  },
  {
   "cell_type": "markdown",
   "id": "c000071d-49d1-4dad-954a-772f74d58cd9",
   "metadata": {},
   "source": [
    "This statement allows us to access the packages functionality as\n",
    "`p.function_name` rather than `package.function_name`.\n",
    "\n",
    "Some common aliases for packages are\n",
    "\n",
    "- `import pandas as pd`  \n",
    "- `import numpy as np`\n",
    "- `import matplotlib.pyplot as plt`\n",
    "- `import datetime as dt`  \n",
    "\n",
    "While you *can* choose any name for an alias, we suggest that you stick to the common ones."
   ]
  },
  {
   "cell_type": "markdown",
   "id": "abcd3c29-c692-4c10-b315-d64fa3b9bedb",
   "metadata": {},
   "source": [
    "# Used Modules\n",
    "In the following section, we will present the librairies used in the labs, and describe the most important functions. "
   ]
  },
  {
   "cell_type": "markdown",
   "id": "b38f0f5c-f2d7-49c9-89ab-3f2b1f587cb2",
   "metadata": {},
   "source": [
    "## 1. Pandas (pandas)\n",
    "\n",
    "`pandas` is a Python library designed for data manipulation, cleaning, and analysis—especially powerful when working with tabular financial data like stock prices, earnings reports, and time series.\n",
    "\n",
    "### Common Instructions in Finance Labs:\n",
    "\n",
    "✅ 1. Importing pandas\n",
    "\n",
    "loads the library and allows you to use pd as a shortcut prefix throughout your code."
   ]
  },
  {
   "cell_type": "code",
   "execution_count": null,
   "id": "c54c7535-d375-4774-84fc-b733273059e9",
   "metadata": {},
   "outputs": [],
   "source": [
    "import pandas as pd"
   ]
  },
  {
   "cell_type": "markdown",
   "id": "cdff74cb-293f-4ac1-ad97-5a57c556d237",
   "metadata": {},
   "source": [
    "✅ 2. Loading Financial Datasets\n",
    "\n",
    "Reads data from a CSV file into a DataFrame (a 2D table of data). This is the starting point for most analysis.\n",
    "\n",
    "You can also load Excel or JSON:\n",
    "\n",
    "data_frame_name = pd.read_csv('data_path.xls')\n",
    "data_frame_name = pd.read_csv('data_path.json')"
   ]
  },
  {
   "cell_type": "code",
   "execution_count": null,
   "id": "1ba73aec-2dd9-4fc1-93ba-8989e6d0d8b1",
   "metadata": {},
   "outputs": [],
   "source": [
    "stock_data = pd.read_csv('datasets/stock_details_3_years.csv')"
   ]
  },
  {
   "cell_type": "markdown",
   "id": "137fd7d2-86df-4576-bfb6-4ccfafdb597f",
   "metadata": {},
   "source": [
    "✅ 3. Exploring the Data\n",
    "\n",
    "These methods help you understand the structure of the dataset."
   ]
  },
  {
   "cell_type": "code",
   "execution_count": null,
   "id": "086b0e68-d899-4039-a37f-bbb91162728d",
   "metadata": {},
   "outputs": [],
   "source": [
    "stock_data.head() # Shows the first 5 rows\n",
    "stock_data.info() # Shows data types and null values\n",
    "stock_data.describe() # Shows statistical summary (mean, std, min, max, etc.)\n",
    "stock_data.shape # Shows the size of the data"
   ]
  },
  {
   "cell_type": "markdown",
   "id": "18a82d82-cdd2-4a9c-b22a-60e46b364ef5",
   "metadata": {},
   "source": [
    "✅ 4. Access Data by iloc\n",
    "\n",
    "iloc is used for position-based access (like arrays)."
   ]
  },
  {
   "cell_type": "code",
   "execution_count": null,
   "id": "9c8e9fee-16ab-48a9-8948-5d7343a45a60",
   "metadata": {},
   "outputs": [],
   "source": [
    "stock_data.iloc[0] # First row of data\n",
    "stock_data.iloc[:5] # First five rows\n",
    "stock_data.iloc[2,3] # Element at row 2 and column 3\n",
    "stock_data.iloc[2,:] # Elements at entire row 2\n",
    "stock_data.iloc[:,3] # Elements at entire column 3"
   ]
  },
  {
   "cell_type": "markdown",
   "id": "648d7bb3-0e32-4dbf-a6ce-5704146b227b",
   "metadata": {},
   "source": [
    "✅ 5. Access Columns by Name\n",
    "\n",
    "Accessing columns using their string labels is more readable and flexible."
   ]
  },
  {
   "cell_type": "code",
   "execution_count": null,
   "id": "0c6fd2a3-29d8-406e-b738-65ae1592006f",
   "metadata": {},
   "outputs": [],
   "source": [
    "close_prices = stock_data['Close'] # Get the 'Close' column by column name\n",
    "close_prices = stock_data.Close # Get the 'Close' column by column reference\n",
    "price_volume = stock_data[['Close', 'Volume']] # Get multiple columns names\n",
    "high_closes = stock_data[stock_data['Close'] > 180] # Filter rows by value\n",
    "high_closes = stock_data[stock_data.Close > 180] # Filter rows by value\n",
    "stock_data_google = stock_data[stock_data['Company'] == 'GOOGL'].copy()\n",
    "stock_data_google = stock_data[stock_data.Company == 'GOOGL'].copy()"
   ]
  },
  {
   "cell_type": "markdown",
   "id": "29e79b8b-7468-4770-a3d0-2a13dd80436f",
   "metadata": {},
   "source": [
    "✅ 6. Grouping Data by Time Period or Categories\n",
    "\n",
    "Use groupby() to summarize data."
   ]
  },
  {
   "cell_type": "code",
   "execution_count": null,
   "id": "901d6672-3e55-4278-ba6e-ad882a59679f",
   "metadata": {},
   "outputs": [],
   "source": [
    "group_stats = stock_data.groupby('Company')['Open'].mean() # average open price per company\n",
    "group_stats = stock_data.groupby('Company')['Open'].count() # number of open price per company"
   ]
  },
  {
   "cell_type": "markdown",
   "id": "137ad5bb-7ef5-4aa2-baf7-7e10c141bd55",
   "metadata": {},
   "source": [
    "✅ 7. Correlation Between Financial Features\n",
    "\n",
    "Use corr() to analyze relationships between variables (like returns and volume)."
   ]
  },
  {
   "cell_type": "code",
   "execution_count": null,
   "id": "d47d4ea3-7dd0-4ccb-93a8-4e2ef102174c",
   "metadata": {},
   "outputs": [],
   "source": [
    "correlation_matrix = stock_data[['Open', 'Close', 'Volume']].corr() \n",
    "# Correlation matrix of numeric columns."
   ]
  },
  {
   "cell_type": "markdown",
   "id": "25f77bae-e2e4-4ef7-9576-3a596e60f54b",
   "metadata": {},
   "source": [
    "✅ 8. Setting Date as Index\n",
    "\n",
    "In pandas, the set_index() method sets one (or more) of the columns of a DataFrame as the row index when analyzing time series (like stock prices), it's common to set the date as the index."
   ]
  },
  {
   "cell_type": "code",
   "execution_count": null,
   "id": "30afec85-8fdc-4a3a-9b1e-fab35756ba79",
   "metadata": {},
   "outputs": [],
   "source": [
    "stock_data = stock_data.set_index('Date') # Setting the Date as the index helps to filter data by Date\n",
    "# or\n",
    "stock_data.set_index('Date',inplace=True) # Setting the Date as the index helps to filter data by Date"
   ]
  },
  {
   "cell_type": "code",
   "execution_count": null,
   "id": "b98ee549-2668-4a13-b500-dd51d2641ba6",
   "metadata": {},
   "outputs": [],
   "source": [
    "start_date = '2021-01-01'\n",
    "end_date = '2021-01-31'\n",
    "stock_data = stock_data_google.loc[start_date:end_date] # Filter data by date"
   ]
  },
  {
   "cell_type": "markdown",
   "id": "96f2bf11-8de6-4731-b76b-bbcd48098bc2",
   "metadata": {},
   "source": [
    "✅ 9. Drop column\n",
    "\n",
    "Drop clean the irrelevant column for analysis or modeling (e.g., it's just an identifier)."
   ]
  },
  {
   "cell_type": "code",
   "execution_count": null,
   "id": "49436a89-8825-404f-abb8-98a0b277cbe7",
   "metadata": {},
   "outputs": [],
   "source": [
    "stock_data = stock_data.drop(columns=['Company'])  # Preferred\n",
    "# OR\n",
    "stock_data.drop(columns=['Company'], inplace=True)"
   ]
  },
  {
   "cell_type": "markdown",
   "id": "2ee7ae16-4b30-4e8e-b208-6ed0a077001b",
   "metadata": {},
   "source": [
    "## 2. NumPy (numpy)\n",
    "\n",
    "`numpy` provides high-performance multidimensional arrays and tools for numerical computations—often used under the hood by pandas, matplotlib, and ML libraries.\n",
    "\n",
    "### Common Instructions in Finance Labs:\n",
    "\n",
    "✅ 1. Importing numpy\n",
    "\n",
    "Loads the library and allows you to use np as a shortcut prefix throughout your code."
   ]
  },
  {
   "cell_type": "code",
   "execution_count": null,
   "id": "556c9b7d-2b25-46f2-9b64-8edbb8e4bfbb",
   "metadata": {},
   "outputs": [],
   "source": [
    "import numpy as np"
   ]
  },
  {
   "cell_type": "raw",
   "id": "535ffa39-ca73-4e36-8c0b-b25ac1938c89",
   "metadata": {},
   "source": [
    "✅ 2. Mathematical operations"
   ]
  },
  {
   "cell_type": "code",
   "execution_count": null,
   "id": "2bc4b19c-2c2b-4094-9855-7d706339e90c",
   "metadata": {},
   "outputs": [],
   "source": [
    "stock_data.iloc[5,2] = np.nan # Simulates missing data using np.nan which is NumPy’s missing data\n",
    "correct = np.sum(stock_data.Close == stock_data.Open) # counts how many close = open\n",
    "absolute_errors = np.abs(stock_data.Close - stock_data.Open) # take absolute value\n",
    "mae = np.mean(absolute_errors) # compute the mean "
   ]
  },
  {
   "cell_type": "markdown",
   "id": "9804b222-8126-4586-b025-9dd4b94437e2",
   "metadata": {},
   "source": [
    "## 3. MatPlotLib (matplotlib)\n",
    "\n",
    "`matplotlib.pyplot` is the most widely used plotting library in Python. It creates static, animated, and interactive plots.\n",
    "\n",
    "### Common Instructions in Finance Labs:\n",
    "\n",
    "✅ 1. Importing matplotlib"
   ]
  },
  {
   "cell_type": "code",
   "execution_count": null,
   "id": "350c4c4f-b7e6-426c-8a22-375d988f6408",
   "metadata": {},
   "outputs": [],
   "source": [
    "import matplotlib.pyplot as plt"
   ]
  },
  {
   "cell_type": "markdown",
   "id": "8dd157af-0c6c-4364-aafb-571f6d18aafa",
   "metadata": {},
   "source": [
    "✅ 2. Line plot of closing prices"
   ]
  },
  {
   "cell_type": "code",
   "execution_count": null,
   "id": "b254144e-c313-46da-adb8-c7da95ad33c4",
   "metadata": {},
   "outputs": [],
   "source": [
    "plt.plot(stock_data_google.index, stock_data_google['Close'])\n",
    "plt.title(\"Google Stock Prices\")\n",
    "plt.xlabel(\"Date\")\n",
    "plt.ylabel(\"Google Close Price (USD)\")\n",
    "plt.show()"
   ]
  },
  {
   "cell_type": "markdown",
   "id": "78260d1c-a264-4cc8-950d-a3219080e083",
   "metadata": {},
   "source": [
    "## 4. Seaborn (seaborn)\n",
    "\n",
    "`seaborn` offers more advanced visualizations and simpler syntax for statistical graphics.\n",
    "\n",
    "### Common Instructions in Finance Labs:\n",
    "\n",
    "✅ 1. Importing seaborn"
   ]
  },
  {
   "cell_type": "code",
   "execution_count": null,
   "id": "935fd864-e9e2-4ed9-9d66-0e7de2fb0d56",
   "metadata": {},
   "outputs": [],
   "source": [
    "import seaborn as sn"
   ]
  },
  {
   "cell_type": "markdown",
   "id": "6459ed9c-f855-4650-8aee-f133dae5e4a5",
   "metadata": {},
   "source": [
    "✅ 2. Plot histogram of distribution"
   ]
  },
  {
   "cell_type": "code",
   "execution_count": null,
   "id": "aaa9b78a-5858-4cb3-ac86-ef3101ab2d64",
   "metadata": {},
   "outputs": [],
   "source": [
    "sn.histplot(data=stock_data_google['Open'])\n",
    "plt.title(\"Google Opening Price of the Stock\")\n",
    "plt.xlabel(\"Open\")\n",
    "plt.show()"
   ]
  },
  {
   "cell_type": "markdown",
   "id": "645b299c-ae05-4ba1-8957-c1739e533383",
   "metadata": {},
   "source": [
    "✅ 3. Plot time series line\n",
    "\n",
    "Helps to identify trends and seasonality."
   ]
  },
  {
   "cell_type": "code",
   "execution_count": null,
   "id": "bcdafaed-658f-47ad-97b5-29ecfee213c1",
   "metadata": {},
   "outputs": [],
   "source": [
    "sn.lineplot(data=stock_data_google, x=\"Date\", y=\"Open\")\n",
    "plt.title(\"Google Opening Price of the Stock\")\n",
    "plt.xlabel(\"Stock Price\")\n",
    "plt.show()"
   ]
  },
  {
   "cell_type": "markdown",
   "id": "b1195932-e299-41b1-83ab-aa7e2ac0276a",
   "metadata": {},
   "source": [
    "✅ 4. Plot a boxplot\n",
    "\n",
    "Excellent for analyzing volatility, price ranges, and detecting abnormal market behavior."
   ]
  },
  {
   "cell_type": "code",
   "execution_count": null,
   "id": "4a96789c-cab9-4792-9675-4007383574c0",
   "metadata": {},
   "outputs": [],
   "source": [
    "sn.boxplot(x=stock_data_google['Close'])\n",
    "plt.title(\"Google Close Price of the Stock Boxplot\")"
   ]
  },
  {
   "cell_type": "markdown",
   "id": "e2943013-dce8-4fce-a04c-3dcca5a3a6db",
   "metadata": {},
   "source": [
    "✅ 5. Plot a correlation heatmap\n",
    "\n",
    "Key for portfolio analysis, feature selection, and understanding relationships between financial variables (e.g., Open, Close, Volume).\n",
    "plt.show()"
   ]
  },
  {
   "cell_type": "code",
   "execution_count": null,
   "id": "1768ee36-9a70-461d-82d4-eb60545079ce",
   "metadata": {},
   "outputs": [],
   "source": [
    "corr = stock_data_google.corr(numeric_only=True) # compute the correlation\n",
    "sn.heatmap(round(corr, 2), annot=True, cmap='coolwarm')\n",
    "plt.title(\"Correlation Heatmap\")\n",
    "plt.show()"
   ]
  },
  {
   "cell_type": "markdown",
   "id": "0a268bfe-4099-4252-a915-85bfd9fd87e0",
   "metadata": {},
   "source": [
    "## 5. Scikit-learn (sklearn)\n",
    "\n",
    "`sklearn` is a machine learning library with tools for classification, regression, clustering, and more.\n",
    "\n",
    "### Common Instructions in Finance Labs:\n",
    "\n",
    "✅ 1. Importing sklearn"
   ]
  },
  {
   "cell_type": "code",
   "execution_count": null,
   "id": "c225b150-45b9-47d4-acbb-aaac999ee5fe",
   "metadata": {},
   "outputs": [],
   "source": [
    "from sklearn import * # imports all submodules, classes, and functions) from the sklearn library"
   ]
  },
  {
   "cell_type": "markdown",
   "id": "60727658-5596-43bb-8878-6328d8cf205f",
   "metadata": {},
   "source": [
    "✅ 2. Initialize Model\n",
    "\n",
    "Build different models:\n",
    "- DecisionTreeClassifier: Predicts categories (e.g., \"loan approved\" vs \"rejected\")\n",
    "- SVC: Support Vector Classifier (robust to noise, good in high-dimensional space)\n",
    "- DecisionTreeRegressor: Predicts continuous values (e.g., stock price)\n",
    "- SVR: Support Vector Regression"
   ]
  },
  {
   "cell_type": "code",
   "execution_count": null,
   "id": "7a8eca1c-34d2-4dbc-9f33-6fddbd4b9a9e",
   "metadata": {},
   "outputs": [],
   "source": [
    "model = tree.DecisionTreeClassifier()\n",
    "model = svm.SVC()\n",
    "model = tree.DecisionTreeRegressor()\n",
    "model = svm.SVR()"
   ]
  },
  {
   "cell_type": "markdown",
   "id": "2e466559-5f48-4004-8fb7-9903eb24b5cf",
   "metadata": {},
   "source": [
    "✅ 3. Train Model\n",
    "\n",
    "Trains the model using the training data to learns relationships between features and target."
   ]
  },
  {
   "cell_type": "code",
   "execution_count": null,
   "id": "0ecd07f6-4d6d-4760-858b-18c09a898cc4",
   "metadata": {},
   "outputs": [],
   "source": [
    "model.fit(x_train, y_train)"
   ]
  },
  {
   "cell_type": "markdown",
   "id": "6622f22f-ea56-4e28-b479-7e5ab4e80ce9",
   "metadata": {},
   "source": [
    "✅ 4. Make Predictions\n",
    "\n",
    "Makes predictions using the trained model on new/unseen data."
   ]
  },
  {
   "cell_type": "code",
   "execution_count": null,
   "id": "ce0b8279-0383-41a8-9a9e-669e8b5505f6",
   "metadata": {},
   "outputs": [],
   "source": [
    "y_pred = model.predict(x_test) "
   ]
  },
  {
   "cell_type": "markdown",
   "id": "5ac89eac-cd5f-4c5b-a496-a57f13948f14",
   "metadata": {},
   "source": [
    "✅ 5. Normalize Features\n",
    "\n",
    "Standardizes features to prevents features with larger units from dominating."
   ]
  },
  {
   "cell_type": "code",
   "execution_count": null,
   "id": "c7f16f77-f3ac-4cf6-8670-bcdfeefdb539",
   "metadata": {},
   "outputs": [],
   "source": [
    "scaler = preprocessing.StandardScaler()\n",
    "x_train_scaled = scaler.fit_transform(x_train) "
   ]
  },
  {
   "cell_type": "markdown",
   "id": "25e4b70f-4573-4cc9-a497-2a8d7227bbdf",
   "metadata": {},
   "source": [
    "✅ 6. Evaluate Model Using Confusion Matrix\n",
    "\n",
    "Computes the confusion matrix to evaluate classification performance."
   ]
  },
  {
   "cell_type": "code",
   "execution_count": null,
   "id": "d99c9e72-5542-49a3-a955-e51be8b94d58",
   "metadata": {},
   "outputs": [],
   "source": [
    "cm = metrics.confusion_matrix(y_test, y_pred)"
   ]
  },
  {
   "cell_type": "markdown",
   "id": "8a68466c-361b-44f3-a1dd-55b3d1e9ed79",
   "metadata": {},
   "source": [
    "## 6. Keras (tensorflow.keras)\n",
    "\n",
    "`keras` is a high-level deep learning API that runs on top of TensorFlow, used to build, train, and evaluate neural networks. It’s ideal for time series forecasting, stock trend prediction, and price classification.\n",
    "\n",
    "### Common Instructions in Finance Labs:\n",
    "\n",
    "✅ 1. Importing keras\n",
    "\n",
    "Imports the Keras API from TensorFlow. This allows you to access modules like:\n",
    "- Sequential (model architecture)\n",
    "- Dense, Conv1D, LSTM, etc. (layers)\n",
    "- optimizers, losses, metrics"
   ]
  },
  {
   "cell_type": "code",
   "execution_count": null,
   "id": "aa593f4e-18a1-4eb1-ba67-6c5694c545db",
   "metadata": {},
   "outputs": [],
   "source": [
    "from tensorflow import keras\n",
    "from keras import *"
   ]
  },
  {
   "cell_type": "markdown",
   "id": "852fbaeb-6230-438f-8b00-87ed427e2e07",
   "metadata": {},
   "source": [
    "✅ 2. Build Model\n",
    "\n",
    "Initializes a Sequential model, which stacks layers linearly (one after the other)."
   ]
  },
  {
   "cell_type": "code",
   "execution_count": null,
   "id": "378281d3-e396-4f67-a055-32cb30500615",
   "metadata": {},
   "outputs": [],
   "source": [
    "model = keras.Sequential()"
   ]
  },
  {
   "cell_type": "markdown",
   "id": "81bd8827-f2bd-4871-a7ac-8318cee0603b",
   "metadata": {},
   "source": [
    "✅ 3. Model Summary\n",
    "\n",
    "Prints a summary of the model architecture: layers, output shapes, number of parameters."
   ]
  },
  {
   "cell_type": "code",
   "execution_count": null,
   "id": "1177415a-4a0d-4b6b-80ee-c260ba55c191",
   "metadata": {},
   "outputs": [],
   "source": [
    "model.summary()"
   ]
  },
  {
   "cell_type": "markdown",
   "id": "2ec6ac4b-f8e6-4052-8e06-19ab3cc1d544",
   "metadata": {},
   "source": [
    "✅ 4. Compile the Model\n",
    "\n",
    "Prepares the model for training:\n",
    "- optimizer='adam': adaptive optimizer for faster convergence.\n",
    "- loss='mse': mean squared error, often used for regression tasks like predicting stock prices."
   ]
  },
  {
   "cell_type": "code",
   "execution_count": null,
   "id": "ad87638c-f04b-4b91-9611-f4f21ac18635",
   "metadata": {},
   "outputs": [],
   "source": [
    "model.compile(optimizer='adam', loss='mse')"
   ]
  },
  {
   "cell_type": "markdown",
   "id": "a327a2e8-66f0-46eb-9e9e-552d45ea8f47",
   "metadata": {},
   "source": [
    "✅ 5. Train the Model\n",
    "The training process adjusts model weights to minimize the loss."
   ]
  },
  {
   "cell_type": "code",
   "execution_count": null,
   "id": "7e5c2f43-13f4-43e8-9184-7fbf30ee0605",
   "metadata": {},
   "outputs": [],
   "source": [
    "model.fit(X_train, y_train)"
   ]
  },
  {
   "cell_type": "markdown",
   "id": "40ae2d33-1a7d-40a1-8f0c-409ab0623dc4",
   "metadata": {},
   "source": [
    "✅ 6. Make Predictions\n",
    "\n",
    "Uses the trained model to make predictions on the test set (x_test).\n",
    "\n",
    "For classification, you might convert output probabilities into class labels using numpy :"
   ]
  },
  {
   "cell_type": "code",
   "execution_count": null,
   "id": "1bd5a065-3501-4213-81aa-5199e1075720",
   "metadata": {},
   "outputs": [],
   "source": [
    "y_pred_cnn = model.predict(x_test)\n",
    "y_pred_cnn = np.argmax(y_pred_cnn, axis=1)"
   ]
  }
 ],
 "metadata": {
  "date": 1738727697.7535512,
  "filename": "basics.md",
  "kernelspec": {
   "display_name": "Python 3 (ipykernel)",
   "language": "python",
   "name": "python3"
  },
  "language_info": {
   "codemirror_mode": {
    "name": "ipython",
    "version": 3
   },
   "file_extension": ".py",
   "mimetype": "text/x-python",
   "name": "python",
   "nbconvert_exporter": "python",
   "pygments_lexer": "ipython3",
   "version": "3.12.4"
  },
  "title": "Basics"
 },
 "nbformat": 4,
 "nbformat_minor": 5
}
